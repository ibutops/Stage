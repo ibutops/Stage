{
 "cells": [
  {
   "cell_type": "code",
   "execution_count": 1,
   "metadata": {},
   "outputs": [],
   "source": [
    "import numpy as np\n",
    "import random\n",
    "import matplotlib.pyplot as plt"
   ]
  },
  {
   "cell_type": "code",
   "execution_count": 73,
   "metadata": {},
   "outputs": [],
   "source": [
    "class Random:\n",
    "    \n",
    "    \"\"\"\n",
    "    Joueur contrôle choisissant à chaque fois une lotterie au hasard\n",
    "    \"\"\"\n",
    "    \n",
    "    def __init__(self):\n",
    "        self.gain = []\n",
    "    \n",
    "    #choix de la lotterie\n",
    "    def play(self, index, lottery_1, lottery_2):\n",
    "        return random.randint(0,1)\n",
    "    \n",
    "    #ajout du gain    \n",
    "    def process(self, gain):\n",
    "        self.gain.append(gain)\n",
    "        \n",
    "class Oracle:\n",
    "    \n",
    "    \"\"\"\n",
    "    Joueur jouant la meilleure lotterie à chaque tour\n",
    "    \"\"\"\n",
    "    \n",
    "    def __init__(self):\n",
    "        self.gain = []\n",
    "    \n",
    "    #choix de la lotterie\n",
    "    def play(self, index, lottery_1, lottery_2):\n",
    "        prob_1, gain_1 = lottery_1\n",
    "        prob_2, gain_2 = lottery_2\n",
    "        if prob_1*gain_1 > prob_2*gain_2:\n",
    "            return 0\n",
    "        else:\n",
    "            return 1\n",
    "        \n",
    "    #ajout du gain  \n",
    "    def process(self, gain):\n",
    "        self.gain.append(gain)\n",
    "        \n",
    "class Epsilon:\n",
    "    \n",
    "    \"\"\"\n",
    "    Joueur suivant la technique Epsilon Greedy\n",
    "    \"\"\"\n",
    "    \n",
    "    def __init__(self):\n",
    "        self.gain = []\n",
    "        self.gain1 = []\n",
    "        self.gain2 = []\n",
    "        \n",
    "    #choix de la lotterie\n",
    "    def play (self, index, lottery_1, lottery_2, epsilon):\n",
    "        #premier choix au hasard\n",
    "        if index == 0:\n",
    "            return random.randint(0,1)\n",
    "       \n",
    "        elif random.uniform(0,1) <= epsilon:\n",
    "            return random.randint(0,1)\n",
    "        \n",
    "        #choix de la meilleure lotterie à l'instant t\n",
    "        else:\n",
    "            if len(self.gain1) == 0:\n",
    "                return 1\n",
    "            \n",
    "            elif len(self.gain2) == 0:\n",
    "                return 0\n",
    "            \n",
    "            else:\n",
    "                if np.mean(self.gain1) > np.mean(self.gain2):\n",
    "                    return 0\n",
    "                \n",
    "                else:\n",
    "                    return 1\n",
    "            \n",
    "    #ajout du gain  \n",
    "    def process(self, gain, choice):\n",
    "        self.gain.append(gain)\n",
    "        if choice == 0:\n",
    "            self.gain1.append(gain)\n",
    "        else:\n",
    "            self.gain2.append(gain)"
   ]
  },
  {
   "cell_type": "code",
   "execution_count": 75,
   "metadata": {},
   "outputs": [
    {
     "data": {
      "image/png": "[encoded data removed]",
      "text/plain": [
       "<Figure size 432x288 with 1 Axes>"
      ]
     },
     "metadata": {
      "needs_background": "light"
     },
     "output_type": "display_data"
    }
   ],
   "source": [
    "### Programme Principal\n",
    "\n",
    "lotteries = [(0.75, 1), (0.25, 1)]\n",
    "\n",
    "n_trial = 1000\n",
    "n_player = 10\n",
    "\n",
    "for j in range (n_player):\n",
    "    \n",
    "    player = Epsilon()\n",
    "    \n",
    "    for i in range(n_trial):\n",
    "        choice = player.play(i, lotteries[0], lotteries[1], 0.05)\n",
    "        prob, value = lotteries[choice]\n",
    "        gain = 0\n",
    "        if random.uniform(0,1) <= prob:\n",
    "            gain = value\n",
    "        \n",
    "        player.process(gain, choice)\n",
    "    \n",
    "    #print(np.mean(player.gain), np.std(player.gain))\n",
    "    #plt.plot(np.cumsum(player.gain))\n",
    "\n",
    "#print(player.gain1)\n",
    "#print(np.mean(player.gain2))\n",
    "#print(np.mean(player.gain))\n",
    "#print(player.play(lottery_1, lottery_2))"
   ]
  },
  {
   "cell_type": "code",
   "execution_count": null,
   "metadata": {},
   "outputs": [],
   "source": []
  }
 ],
 "metadata": {
  "kernelspec": {
   "display_name": "Python 3",
   "language": "python",
   "name": "python3"
  },
  "language_info": {
   "codemirror_mode": {
    "name": "ipython",
    "version": 3
   },
   "file_extension": ".py",
   "mimetype": "text/x-python",
   "name": "python",
   "nbconvert_exporter": "python",
   "pygments_lexer": "ipython3",
   "version": "3.7.6"
  }
 },
 "nbformat": 4,
 "nbformat_minor": 4
}
